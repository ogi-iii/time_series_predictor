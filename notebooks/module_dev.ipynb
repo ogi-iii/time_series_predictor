{
 "cells": [
  {
   "cell_type": "code",
   "execution_count": 1,
   "metadata": {},
   "outputs": [],
   "source": [
    "import os\n",
    "import numpy as np\n",
    "import pandas as pd\n",
    "from scipy import stats\n",
    "from scipy import signal\n",
    "import statsmodels.api as sm\n",
    "from matplotlib import pyplot as plt\n",
    "import seaborn as sns\n",
    "%matplotlib inline\n",
    "sns.set()"
   ]
  },
  {
   "cell_type": "code",
   "execution_count": 2,
   "metadata": {},
   "outputs": [],
   "source": [
    "import sys\n",
    "sys.path.append(\"..\")"
   ]
  },
  {
   "cell_type": "code",
   "execution_count": 3,
   "metadata": {},
   "outputs": [],
   "source": [
    "import warnings\n",
    "warnings.filterwarnings('ignore') # 計算警告を非表示"
   ]
  },
  {
   "cell_type": "code",
   "execution_count": 4,
   "metadata": {},
   "outputs": [],
   "source": [
    "from appContainer.app.module.sarima import *"
   ]
  },
  {
   "cell_type": "code",
   "execution_count": 5,
   "metadata": {},
   "outputs": [],
   "source": [
    "# 変数群\n",
    "csv_file = \"../sample_data/AirPassengers.csv\"\n",
    "index_col = \"Month\"\n",
    "target_col = \"#Passengers\"\n",
    "pred_begin = \"1960-01\"\n",
    "pred_end = \"1963-1\"\n",
    "\n",
    "output_fig_dir = \"./output_fig\"\n",
    "if not os.path.isdir(output_fig_dir):\n",
    "    os.mkdir(output_fig_dir)"
   ]
  },
  {
   "cell_type": "markdown",
   "metadata": {},
   "source": [
    "# 計算速度を測定"
   ]
  },
  {
   "cell_type": "code",
   "execution_count": 6,
   "metadata": {
    "tags": []
   },
   "outputs": [
    {
     "output_type": "stream",
     "name": "stdout",
     "text": "CPU times: user 5.28 s, sys: 195 ms, total: 5.47 s\nWall time: 5.37 s\n"
    }
   ],
   "source": [
    "%%time\n",
    "ts = read_data(csv_file,\n",
    "            index_col,\n",
    "            target_col\n",
    "            )\n",
    "\n",
    "p, d, q, sfq = select_order(ts, d = 1, freq_order = 5)\n",
    "\n",
    "sarimax = fit_sarima(ts, p, d, q, sfq, sp = 1, sd = 1, sq = 1 )\n",
    "\n",
    "_, _ = output_results(sarimax,\n",
    "                    pred_begin,\n",
    "                    pred_end,\n",
    "                    ts,\n",
    "                    csv_file,\n",
    "                    index_col,\n",
    "                    target_col,\n",
    "                    output_fig_dir,\n",
    "                    )"
   ]
  },
  {
   "cell_type": "markdown",
   "metadata": {},
   "source": [
    "# 個別に速度を調べる"
   ]
  },
  {
   "cell_type": "code",
   "execution_count": 7,
   "metadata": {
    "tags": []
   },
   "outputs": [
    {
     "output_type": "stream",
     "name": "stdout",
     "text": "CPU times: user 7.73 ms, sys: 2.61 ms, total: 10.3 ms\nWall time: 11.4 ms\n"
    }
   ],
   "source": [
    "%%time\n",
    "ts = read_data(csv_file,\n",
    "            index_col,\n",
    "            target_col\n",
    "            )"
   ]
  },
  {
   "cell_type": "code",
   "execution_count": 8,
   "metadata": {
    "tags": []
   },
   "outputs": [
    {
     "output_type": "stream",
     "name": "stdout",
     "text": "CPU times: user 2.59 s, sys: 60.8 ms, total: 2.65 s\nWall time: 1.85 s\n"
    }
   ],
   "source": [
    "%%time\n",
    "p, d, q, sfq = select_order(ts,\n",
    "                            d = 1,\n",
    "                            freq_order = 5\n",
    "                            )"
   ]
  },
  {
   "cell_type": "code",
   "execution_count": 9,
   "metadata": {
    "tags": []
   },
   "outputs": [
    {
     "output_type": "stream",
     "name": "stdout",
     "text": "CPU times: user 2.19 s, sys: 38 ms, total: 2.23 s\nWall time: 2.22 s\n"
    }
   ],
   "source": [
    "%%time\n",
    "sarimax = fit_sarima(ts,\n",
    "                    p,\n",
    "                    d,\n",
    "                    q,\n",
    "                    sfq,\n",
    "                    sp = 1,\n",
    "                    sd = 1,\n",
    "                    sq = 1\n",
    "                    )"
   ]
  },
  {
   "cell_type": "code",
   "execution_count": 10,
   "metadata": {
    "tags": []
   },
   "outputs": [
    {
     "output_type": "stream",
     "name": "stdout",
     "text": "CPU times: user 433 ms, sys: 19.5 ms, total: 452 ms\nWall time: 475 ms\n"
    }
   ],
   "source": [
    "%%time\n",
    "_, _ = output_results(sarimax,\n",
    "                    pred_begin,\n",
    "                    pred_end,\n",
    "                    ts,\n",
    "                    csv_file,\n",
    "                    index_col,\n",
    "                    target_col,\n",
    "                    output_fig_dir,\n",
    "                    )"
   ]
  },
  {
   "cell_type": "code",
   "execution_count": null,
   "metadata": {},
   "outputs": [],
   "source": []
  }
 ],
 "metadata": {
  "kernelspec": {
   "display_name": "Python 3",
   "language": "python",
   "name": "python3"
  },
  "language_info": {
   "codemirror_mode": {
    "name": "ipython",
    "version": 3
   },
   "file_extension": ".py",
   "mimetype": "text/x-python",
   "name": "python",
   "nbconvert_exporter": "python",
   "pygments_lexer": "ipython3",
   "version": "3.7.3-final"
  }
 },
 "nbformat": 4,
 "nbformat_minor": 2
}