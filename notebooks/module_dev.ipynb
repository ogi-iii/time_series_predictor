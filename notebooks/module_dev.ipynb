{
 "cells": [
  {
   "cell_type": "code",
   "execution_count": 1,
   "metadata": {},
   "outputs": [],
   "source": [
    "import os\n",
    "import numpy as np\n",
    "import pandas as pd\n",
    "from scipy import stats\n",
    "from scipy import signal\n",
    "import statsmodels.api as sm\n",
    "from matplotlib import pyplot as plt\n",
    "import seaborn as sns\n",
    "%matplotlib inline\n",
    "sns.set()"
   ]
  },
  {
   "cell_type": "code",
   "execution_count": 2,
   "metadata": {},
   "outputs": [],
   "source": [
    "import sys\n",
    "sys.path.append(\"..\")"
   ]
  },
  {
   "cell_type": "code",
   "execution_count": 3,
   "metadata": {},
   "outputs": [],
   "source": [
    "import warnings\n",
    "warnings.filterwarnings('ignore') # 計算警告を非表示"
   ]
  },
  {
   "cell_type": "code",
   "execution_count": 4,
   "metadata": {},
   "outputs": [],
   "source": [
    "from app.module import *"
   ]
  },
  {
   "cell_type": "code",
   "execution_count": 5,
   "metadata": {},
   "outputs": [],
   "source": [
    "# 変数群\n",
    "csv = \"../AirPassengers.csv\"\n",
    "index_col = \"Month\"\n",
    "target_col = \"#Passengers\"\n",
    "pred_begin = \"1960-01\"\n",
    "pred_end = \"1963-1\"\n",
    "\n",
    "output_fig_dir = \"./output_fig\"\n",
    "if not os.path.isdir(output_fig_dir):\n",
    "    os.mkdir(output_fig_dir)"
   ]
  },
  {
   "cell_type": "markdown",
   "metadata": {},
   "source": [
    "# 計算速度を測定"
   ]
  },
  {
   "cell_type": "code",
   "execution_count": 6,
   "metadata": {
    "tags": []
   },
   "outputs": [
    {
     "output_type": "stream",
     "name": "stdout",
     "text": "CPU times: user 6.26 s, sys: 159 ms, total: 6.42 s\nWall time: 7.18 s\n"
    }
   ],
   "source": [
    "%%time\n",
    "ts = read_data(csv,\n",
    "            index_col,\n",
    "            target_col\n",
    "            )\n",
    "\n",
    "p, d, q, sfq = select_order(ts,\n",
    "                                    d = 1,\n",
    "                                    freq_order = 5\n",
    "                                    )\n",
    "\n",
    "sarimax = fit_sarima(ts,\n",
    "                            p,\n",
    "                            d,\n",
    "                            q,\n",
    "                            sfq,\n",
    "                            sp = 1,\n",
    "                            sd = 1,\n",
    "                            sq = 1\n",
    "                            )\n",
    "\n",
    "_, _ = output_results(sarimax,\n",
    "                    pred_begin,\n",
    "                    pred_end,\n",
    "                    ts,\n",
    "                    csv,\n",
    "                    index_col,\n",
    "                    target_col,\n",
    "                    output_fig_dir,\n",
    "                    )"
   ]
  },
  {
   "cell_type": "markdown",
   "metadata": {},
   "source": [
    "# 個別に速度を調べる"
   ]
  },
  {
   "cell_type": "code",
   "execution_count": 7,
   "metadata": {
    "tags": []
   },
   "outputs": [
    {
     "output_type": "stream",
     "name": "stdout",
     "text": "CPU times: user 6.51 ms, sys: 2.4 ms, total: 8.91 ms\nWall time: 25.2 ms\n"
    }
   ],
   "source": [
    "%%time\n",
    "ts = read_data(csv,\n",
    "            index_col,\n",
    "            target_col\n",
    "            )"
   ]
  },
  {
   "cell_type": "code",
   "execution_count": 8,
   "metadata": {
    "tags": []
   },
   "outputs": [
    {
     "output_type": "stream",
     "name": "stdout",
     "text": "CPU times: user 2.69 s, sys: 71.2 ms, total: 2.76 s\nWall time: 2.44 s\n"
    }
   ],
   "source": [
    "%%time\n",
    "p, d, q, sfq = select_order(ts,\n",
    "                                    d = 1,\n",
    "                                    freq_order = 5\n",
    "                                    )"
   ]
  },
  {
   "cell_type": "code",
   "execution_count": 9,
   "metadata": {
    "tags": []
   },
   "outputs": [
    {
     "output_type": "stream",
     "name": "stdout",
     "text": "CPU times: user 2.3 s, sys: 45.4 ms, total: 2.34 s\nWall time: 2.45 s\n"
    }
   ],
   "source": [
    "%%time\n",
    "sarimax = fit_sarima(ts,\n",
    "                            p,\n",
    "                            d,\n",
    "                            q,\n",
    "                            sfq,\n",
    "                            sp = 1,\n",
    "                            sd = 1,\n",
    "                            sq = 1\n",
    "                            )"
   ]
  },
  {
   "cell_type": "code",
   "execution_count": 10,
   "metadata": {
    "tags": []
   },
   "outputs": [
    {
     "output_type": "stream",
     "name": "stdout",
     "text": "CPU times: user 487 ms, sys: 22.3 ms, total: 510 ms\nWall time: 517 ms\n"
    }
   ],
   "source": [
    "%%time\n",
    "_, _ = output_results(sarimax,\n",
    "                    pred_begin,\n",
    "                    pred_end,\n",
    "                    ts,\n",
    "                    csv,\n",
    "                    index_col,\n",
    "                    target_col,\n",
    "                    output_fig_dir,\n",
    "                    )"
   ]
  },
  {
   "cell_type": "code",
   "execution_count": null,
   "metadata": {},
   "outputs": [],
   "source": []
  }
 ],
 "metadata": {
  "kernelspec": {
   "display_name": "Python 3",
   "language": "python",
   "name": "python3"
  },
  "language_info": {
   "codemirror_mode": {
    "name": "ipython",
    "version": 3
   },
   "file_extension": ".py",
   "mimetype": "text/x-python",
   "name": "python",
   "nbconvert_exporter": "python",
   "pygments_lexer": "ipython3",
   "version": "3.7.3-final"
  }
 },
 "nbformat": 4,
 "nbformat_minor": 2
}