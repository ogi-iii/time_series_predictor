{
 "cells": [
  {
   "cell_type": "code",
   "execution_count": 1,
   "metadata": {},
   "outputs": [],
   "source": [
    "import os\n",
    "import numpy as np\n",
    "import pandas as pd\n",
    "from scipy import stats\n",
    "from scipy import signal\n",
    "import statsmodels.api as sm\n",
    "from matplotlib import pyplot as plt\n",
    "import seaborn as sns\n",
    "%matplotlib inline\n",
    "sns.set()"
   ]
  },
  {
   "cell_type": "code",
   "execution_count": 2,
   "metadata": {},
   "outputs": [],
   "source": [
    "import sys\n",
    "sys.path.append(\"..\")"
   ]
  },
  {
   "cell_type": "code",
   "execution_count": 3,
   "metadata": {},
   "outputs": [],
   "source": [
    "import warnings\n",
    "warnings.filterwarnings('ignore') # 計算警告を非表示"
   ]
  },
  {
   "cell_type": "code",
   "execution_count": 4,
   "metadata": {},
   "outputs": [],
   "source": [
    "from app.module import *"
   ]
  },
  {
   "cell_type": "code",
   "execution_count": 5,
   "metadata": {},
   "outputs": [],
   "source": [
    "# 変数群\n",
    "csv = \"../AirPassengers.csv\"\n",
    "index_col = \"Month\"\n",
    "target_col = \"#Passengers\"\n",
    "pred_begin = \"1960-01\"\n",
    "pred_end = \"1963-1\"\n",
    "\n",
    "output_fig_dir = \"./output_fig\"\n",
    "if not os.path.isdir(output_fig_dir):\n",
    "    os.mkdir(output_fig_dir)\n",
    "    \n",
    "output_csv_dir = \"./output_csv\"\n",
    "if not os.path.isdir(output_csv_dir):\n",
    "    os.mkdir(output_csv_dir)"
   ]
  },
  {
   "cell_type": "markdown",
   "metadata": {},
   "source": [
    "# 計算速度を測定"
   ]
  },
  {
   "cell_type": "code",
   "execution_count": 6,
   "metadata": {
    "tags": []
   },
   "outputs": [
    {
     "output_type": "stream",
     "name": "stdout",
     "text": "CPU times: user 5.72 s, sys: 228 ms, total: 5.95 s\nWall time: 5.99 s\n"
    }
   ],
   "source": [
    "%%time\n",
    "ts = read_data(csv,\n",
    "            index_col,\n",
    "            target_col\n",
    "            )\n",
    "\n",
    "p, d, q, sfq = select_order(ts,\n",
    "                                    d = 1,\n",
    "                                    freq_order = 5\n",
    "                                    )\n",
    "\n",
    "sarimax = fit_sarima(ts,\n",
    "                            p,\n",
    "                            d,\n",
    "                            q,\n",
    "                            sfq,\n",
    "                            sp = 1,\n",
    "                            sd = 1,\n",
    "                            sq = 1\n",
    "                            )\n",
    "\n",
    "output_results(sarimax,\n",
    "                pred_begin,\n",
    "                pred_end,\n",
    "                ts,\n",
    "                csv,\n",
    "                index_col,\n",
    "                target_col,\n",
    "                output_fig_dir,\n",
    "                output_csv_dir,\n",
    "                )"
   ]
  },
  {
   "cell_type": "markdown",
   "metadata": {},
   "source": [
    "# 個別に速度を調べる"
   ]
  },
  {
   "cell_type": "code",
   "execution_count": 7,
   "metadata": {
    "tags": []
   },
   "outputs": [
    {
     "output_type": "stream",
     "name": "stdout",
     "text": "CPU times: user 9.75 ms, sys: 2.46 ms, total: 12.2 ms\nWall time: 30.1 ms\n"
    }
   ],
   "source": [
    "%%time\n",
    "ts = read_data(csv,\n",
    "            index_col,\n",
    "            target_col\n",
    "            )"
   ]
  },
  {
   "cell_type": "code",
   "execution_count": 8,
   "metadata": {
    "tags": []
   },
   "outputs": [
    {
     "output_type": "stream",
     "name": "stdout",
     "text": "CPU times: user 2.68 s, sys: 71.3 ms, total: 2.76 s\nWall time: 3.46 s\n"
    }
   ],
   "source": [
    "%%time\n",
    "p, d, q, sfq = select_order(ts,\n",
    "                                    d = 1,\n",
    "                                    freq_order = 5\n",
    "                                    )"
   ]
  },
  {
   "cell_type": "code",
   "execution_count": 9,
   "metadata": {
    "tags": []
   },
   "outputs": [
    {
     "output_type": "stream",
     "name": "stdout",
     "text": "CPU times: user 2.25 s, sys: 46.8 ms, total: 2.3 s\nWall time: 2.46 s\n"
    }
   ],
   "source": [
    "%%time\n",
    "sarimax = fit_sarima(ts,\n",
    "                            p,\n",
    "                            d,\n",
    "                            q,\n",
    "                            sfq,\n",
    "                            sp = 1,\n",
    "                            sd = 1,\n",
    "                            sq = 1\n",
    "                            )"
   ]
  },
  {
   "cell_type": "code",
   "execution_count": 10,
   "metadata": {
    "tags": []
   },
   "outputs": [
    {
     "output_type": "stream",
     "name": "stdout",
     "text": "CPU times: user 471 ms, sys: 25.5 ms, total: 496 ms\nWall time: 646 ms\n"
    }
   ],
   "source": [
    "%%time\n",
    "output_results(sarimax,\n",
    "                pred_begin,\n",
    "                pred_end,\n",
    "                ts,\n",
    "                csv,\n",
    "                index_col,\n",
    "                target_col,\n",
    "                output_fig_dir,\n",
    "                output_csv_dir,\n",
    "                )"
   ]
  },
  {
   "cell_type": "code",
   "execution_count": null,
   "metadata": {},
   "outputs": [],
   "source": []
  }
 ],
 "metadata": {
  "kernelspec": {
   "display_name": "Python 3",
   "language": "python",
   "name": "python3"
  },
  "language_info": {
   "codemirror_mode": {
    "name": "ipython",
    "version": 3
   },
   "file_extension": ".py",
   "mimetype": "text/x-python",
   "name": "python",
   "nbconvert_exporter": "python",
   "pygments_lexer": "ipython3",
   "version": "3.7.3-final"
  }
 },
 "nbformat": 4,
 "nbformat_minor": 2
}